{
  "cells": [
    {
      "cell_type": "markdown",
      "metadata": {
        "id": "view-in-github",
        "colab_type": "text"
      },
      "source": [
        "<a href=\"https://colab.research.google.com/github/HimanshuKakwani/Time-Series/blob/main/ARIMA_Exp_6.ipynb\" target=\"_parent\"><img src=\"https://colab.research.google.com/assets/colab-badge.svg\" alt=\"Open In Colab\"/></a>"
      ]
    },
    {
      "cell_type": "markdown",
      "source": [
        "Pmdarima is a statistical library designed to fill teh void in Pyhon's TS analysis capabilities."
      ],
      "metadata": {
        "id": "02-Ga8Sc6unI"
      }
    },
    {
      "cell_type": "code",
      "source": [
        "pip install pmdarima"
      ],
      "metadata": {
        "colab": {
          "base_uri": "https://localhost:8080/"
        },
        "id": "w8Zk04-300ic",
        "outputId": "9234f16f-426f-4c13-a7d0-f31db063ca2c"
      },
      "execution_count": null,
      "outputs": [
        {
          "output_type": "stream",
          "name": "stdout",
          "text": [
            "Looking in indexes: https://pypi.org/simple, https://us-python.pkg.dev/colab-wheels/public/simple/\n",
            "Requirement already satisfied: pmdarima in /usr/local/lib/python3.7/dist-packages (2.0.1)\n",
            "Requirement already satisfied: joblib>=0.11 in /usr/local/lib/python3.7/dist-packages (from pmdarima) (1.2.0)\n",
            "Requirement already satisfied: urllib3 in /usr/local/lib/python3.7/dist-packages (from pmdarima) (1.24.3)\n",
            "Requirement already satisfied: setuptools!=50.0.0,>=38.6.0 in /usr/local/lib/python3.7/dist-packages (from pmdarima) (57.4.0)\n",
            "Requirement already satisfied: Cython!=0.29.18,!=0.29.31,>=0.29 in /usr/local/lib/python3.7/dist-packages (from pmdarima) (0.29.32)\n",
            "Requirement already satisfied: statsmodels>=0.13.2 in /usr/local/lib/python3.7/dist-packages (from pmdarima) (0.13.5)\n",
            "Requirement already satisfied: numpy>=1.21 in /usr/local/lib/python3.7/dist-packages (from pmdarima) (1.21.6)\n",
            "Requirement already satisfied: scipy>=1.3.2 in /usr/local/lib/python3.7/dist-packages (from pmdarima) (1.7.3)\n",
            "Requirement already satisfied: pandas>=0.19 in /usr/local/lib/python3.7/dist-packages (from pmdarima) (1.3.5)\n",
            "Requirement already satisfied: scikit-learn>=0.22 in /usr/local/lib/python3.7/dist-packages (from pmdarima) (1.0.2)\n",
            "Requirement already satisfied: python-dateutil>=2.7.3 in /usr/local/lib/python3.7/dist-packages (from pandas>=0.19->pmdarima) (2.8.2)\n",
            "Requirement already satisfied: pytz>=2017.3 in /usr/local/lib/python3.7/dist-packages (from pandas>=0.19->pmdarima) (2022.6)\n",
            "Requirement already satisfied: six>=1.5 in /usr/local/lib/python3.7/dist-packages (from python-dateutil>=2.7.3->pandas>=0.19->pmdarima) (1.15.0)\n",
            "Requirement already satisfied: threadpoolctl>=2.0.0 in /usr/local/lib/python3.7/dist-packages (from scikit-learn>=0.22->pmdarima) (3.1.0)\n",
            "Requirement already satisfied: patsy>=0.5.2 in /usr/local/lib/python3.7/dist-packages (from statsmodels>=0.13.2->pmdarima) (0.5.3)\n",
            "Requirement already satisfied: packaging>=21.3 in /usr/local/lib/python3.7/dist-packages (from statsmodels>=0.13.2->pmdarima) (21.3)\n",
            "Requirement already satisfied: pyparsing!=3.0.5,>=2.0.2 in /usr/local/lib/python3.7/dist-packages (from packaging>=21.3->statsmodels>=0.13.2->pmdarima) (3.0.9)\n"
          ]
        }
      ]
    },
    {
      "cell_type": "code",
      "execution_count": null,
      "metadata": {
        "ExecuteTime": {
          "end_time": "2020-01-19T06:49:39.576020Z",
          "start_time": "2020-01-19T06:49:39.570064Z"
        },
        "id": "k3vGcS_6zYxz"
      },
      "outputs": [],
      "source": [
        "import warnings\n",
        "\n",
        "import matplotlib.pyplot as plt\n",
        "import numpy as np\n",
        "import pandas as pd\n",
        "import statsmodels.api as sm\n",
        "from pmdarima import auto_arima\n",
        "from sklearn import metrics\n",
        "from statsmodels.tsa.seasonal import seasonal_decompose\n",
        "from statsmodels.tsa.stattools import adfuller\n",
        "\n",
        "warnings.filterwarnings(\"ignore\")"
      ]
    },
    {
      "cell_type": "code",
      "execution_count": null,
      "metadata": {
        "ExecuteTime": {
          "end_time": "2020-01-19T06:49:41.083280Z",
          "start_time": "2020-01-19T06:49:41.072305Z"
        },
        "id": "SdxzRE6DzYx0"
      },
      "outputs": [],
      "source": [
        "df = pd.read_csv(r'/content/FB.csv', parse_dates = True)"
      ]
    },
    {
      "cell_type": "code",
      "execution_count": null,
      "metadata": {
        "ExecuteTime": {
          "end_time": "2020-01-19T06:49:41.885132Z",
          "start_time": "2020-01-19T06:49:41.873130Z"
        },
        "scrolled": true,
        "colab": {
          "base_uri": "https://localhost:8080/",
          "height": 363
        },
        "id": "KspKl7GszYx0",
        "outputId": "d1a2c0e0-8937-4756-b69d-542d4e72d58e"
      },
      "outputs": [
        {
          "output_type": "execute_result",
          "data": {
            "text/plain": [
              "         Date       Open       High        Low      Close  Adj Close    Volume\n",
              "0  2014-12-08  76.180000  77.250000  75.400002  76.519997  76.519997  25733900\n",
              "1  2014-12-09  75.199997  76.930000  74.779999  76.839996  76.839996  25358600\n",
              "2  2014-12-10  76.650002  77.550003  76.070000  76.180000  76.180000  32210500\n",
              "3  2014-12-11  76.519997  78.519997  76.480003  77.730003  77.730003  33462100\n",
              "4  2014-12-12  77.160004  78.879997  77.019997  77.830002  77.830002  28091600\n",
              "5  2014-12-15  78.459999  78.580002  76.559998  76.989998  76.989998  29396500\n",
              "6  2014-12-16  76.190002  77.389999  74.589996  74.690002  74.690002  31554600\n",
              "7  2014-12-17  75.010002  76.410004  74.900002  76.110001  76.110001  29203900\n",
              "8  2014-12-18  76.889999  78.400002  76.510002  78.400002  78.400002  34222100\n",
              "9  2014-12-19  78.750000  80.000000  78.330002  79.879997  79.879997  43335000"
            ],
            "text/html": [
              "\n",
              "  <div id=\"df-dc6a6f6d-adff-44cf-8bf1-009abc4e304e\">\n",
              "    <div class=\"colab-df-container\">\n",
              "      <div>\n",
              "<style scoped>\n",
              "    .dataframe tbody tr th:only-of-type {\n",
              "        vertical-align: middle;\n",
              "    }\n",
              "\n",
              "    .dataframe tbody tr th {\n",
              "        vertical-align: top;\n",
              "    }\n",
              "\n",
              "    .dataframe thead th {\n",
              "        text-align: right;\n",
              "    }\n",
              "</style>\n",
              "<table border=\"1\" class=\"dataframe\">\n",
              "  <thead>\n",
              "    <tr style=\"text-align: right;\">\n",
              "      <th></th>\n",
              "      <th>Date</th>\n",
              "      <th>Open</th>\n",
              "      <th>High</th>\n",
              "      <th>Low</th>\n",
              "      <th>Close</th>\n",
              "      <th>Adj Close</th>\n",
              "      <th>Volume</th>\n",
              "    </tr>\n",
              "  </thead>\n",
              "  <tbody>\n",
              "    <tr>\n",
              "      <th>0</th>\n",
              "      <td>2014-12-08</td>\n",
              "      <td>76.180000</td>\n",
              "      <td>77.250000</td>\n",
              "      <td>75.400002</td>\n",
              "      <td>76.519997</td>\n",
              "      <td>76.519997</td>\n",
              "      <td>25733900</td>\n",
              "    </tr>\n",
              "    <tr>\n",
              "      <th>1</th>\n",
              "      <td>2014-12-09</td>\n",
              "      <td>75.199997</td>\n",
              "      <td>76.930000</td>\n",
              "      <td>74.779999</td>\n",
              "      <td>76.839996</td>\n",
              "      <td>76.839996</td>\n",
              "      <td>25358600</td>\n",
              "    </tr>\n",
              "    <tr>\n",
              "      <th>2</th>\n",
              "      <td>2014-12-10</td>\n",
              "      <td>76.650002</td>\n",
              "      <td>77.550003</td>\n",
              "      <td>76.070000</td>\n",
              "      <td>76.180000</td>\n",
              "      <td>76.180000</td>\n",
              "      <td>32210500</td>\n",
              "    </tr>\n",
              "    <tr>\n",
              "      <th>3</th>\n",
              "      <td>2014-12-11</td>\n",
              "      <td>76.519997</td>\n",
              "      <td>78.519997</td>\n",
              "      <td>76.480003</td>\n",
              "      <td>77.730003</td>\n",
              "      <td>77.730003</td>\n",
              "      <td>33462100</td>\n",
              "    </tr>\n",
              "    <tr>\n",
              "      <th>4</th>\n",
              "      <td>2014-12-12</td>\n",
              "      <td>77.160004</td>\n",
              "      <td>78.879997</td>\n",
              "      <td>77.019997</td>\n",
              "      <td>77.830002</td>\n",
              "      <td>77.830002</td>\n",
              "      <td>28091600</td>\n",
              "    </tr>\n",
              "    <tr>\n",
              "      <th>5</th>\n",
              "      <td>2014-12-15</td>\n",
              "      <td>78.459999</td>\n",
              "      <td>78.580002</td>\n",
              "      <td>76.559998</td>\n",
              "      <td>76.989998</td>\n",
              "      <td>76.989998</td>\n",
              "      <td>29396500</td>\n",
              "    </tr>\n",
              "    <tr>\n",
              "      <th>6</th>\n",
              "      <td>2014-12-16</td>\n",
              "      <td>76.190002</td>\n",
              "      <td>77.389999</td>\n",
              "      <td>74.589996</td>\n",
              "      <td>74.690002</td>\n",
              "      <td>74.690002</td>\n",
              "      <td>31554600</td>\n",
              "    </tr>\n",
              "    <tr>\n",
              "      <th>7</th>\n",
              "      <td>2014-12-17</td>\n",
              "      <td>75.010002</td>\n",
              "      <td>76.410004</td>\n",
              "      <td>74.900002</td>\n",
              "      <td>76.110001</td>\n",
              "      <td>76.110001</td>\n",
              "      <td>29203900</td>\n",
              "    </tr>\n",
              "    <tr>\n",
              "      <th>8</th>\n",
              "      <td>2014-12-18</td>\n",
              "      <td>76.889999</td>\n",
              "      <td>78.400002</td>\n",
              "      <td>76.510002</td>\n",
              "      <td>78.400002</td>\n",
              "      <td>78.400002</td>\n",
              "      <td>34222100</td>\n",
              "    </tr>\n",
              "    <tr>\n",
              "      <th>9</th>\n",
              "      <td>2014-12-19</td>\n",
              "      <td>78.750000</td>\n",
              "      <td>80.000000</td>\n",
              "      <td>78.330002</td>\n",
              "      <td>79.879997</td>\n",
              "      <td>79.879997</td>\n",
              "      <td>43335000</td>\n",
              "    </tr>\n",
              "  </tbody>\n",
              "</table>\n",
              "</div>\n",
              "      <button class=\"colab-df-convert\" onclick=\"convertToInteractive('df-dc6a6f6d-adff-44cf-8bf1-009abc4e304e')\"\n",
              "              title=\"Convert this dataframe to an interactive table.\"\n",
              "              style=\"display:none;\">\n",
              "        \n",
              "  <svg xmlns=\"http://www.w3.org/2000/svg\" height=\"24px\"viewBox=\"0 0 24 24\"\n",
              "       width=\"24px\">\n",
              "    <path d=\"M0 0h24v24H0V0z\" fill=\"none\"/>\n",
              "    <path d=\"M18.56 5.44l.94 2.06.94-2.06 2.06-.94-2.06-.94-.94-2.06-.94 2.06-2.06.94zm-11 1L8.5 8.5l.94-2.06 2.06-.94-2.06-.94L8.5 2.5l-.94 2.06-2.06.94zm10 10l.94 2.06.94-2.06 2.06-.94-2.06-.94-.94-2.06-.94 2.06-2.06.94z\"/><path d=\"M17.41 7.96l-1.37-1.37c-.4-.4-.92-.59-1.43-.59-.52 0-1.04.2-1.43.59L10.3 9.45l-7.72 7.72c-.78.78-.78 2.05 0 2.83L4 21.41c.39.39.9.59 1.41.59.51 0 1.02-.2 1.41-.59l7.78-7.78 2.81-2.81c.8-.78.8-2.07 0-2.86zM5.41 20L4 18.59l7.72-7.72 1.47 1.35L5.41 20z\"/>\n",
              "  </svg>\n",
              "      </button>\n",
              "      \n",
              "  <style>\n",
              "    .colab-df-container {\n",
              "      display:flex;\n",
              "      flex-wrap:wrap;\n",
              "      gap: 12px;\n",
              "    }\n",
              "\n",
              "    .colab-df-convert {\n",
              "      background-color: #E8F0FE;\n",
              "      border: none;\n",
              "      border-radius: 50%;\n",
              "      cursor: pointer;\n",
              "      display: none;\n",
              "      fill: #1967D2;\n",
              "      height: 32px;\n",
              "      padding: 0 0 0 0;\n",
              "      width: 32px;\n",
              "    }\n",
              "\n",
              "    .colab-df-convert:hover {\n",
              "      background-color: #E2EBFA;\n",
              "      box-shadow: 0px 1px 2px rgba(60, 64, 67, 0.3), 0px 1px 3px 1px rgba(60, 64, 67, 0.15);\n",
              "      fill: #174EA6;\n",
              "    }\n",
              "\n",
              "    [theme=dark] .colab-df-convert {\n",
              "      background-color: #3B4455;\n",
              "      fill: #D2E3FC;\n",
              "    }\n",
              "\n",
              "    [theme=dark] .colab-df-convert:hover {\n",
              "      background-color: #434B5C;\n",
              "      box-shadow: 0px 1px 3px 1px rgba(0, 0, 0, 0.15);\n",
              "      filter: drop-shadow(0px 1px 2px rgba(0, 0, 0, 0.3));\n",
              "      fill: #FFFFFF;\n",
              "    }\n",
              "  </style>\n",
              "\n",
              "      <script>\n",
              "        const buttonEl =\n",
              "          document.querySelector('#df-dc6a6f6d-adff-44cf-8bf1-009abc4e304e button.colab-df-convert');\n",
              "        buttonEl.style.display =\n",
              "          google.colab.kernel.accessAllowed ? 'block' : 'none';\n",
              "\n",
              "        async function convertToInteractive(key) {\n",
              "          const element = document.querySelector('#df-dc6a6f6d-adff-44cf-8bf1-009abc4e304e');\n",
              "          const dataTable =\n",
              "            await google.colab.kernel.invokeFunction('convertToInteractive',\n",
              "                                                     [key], {});\n",
              "          if (!dataTable) return;\n",
              "\n",
              "          const docLinkHtml = 'Like what you see? Visit the ' +\n",
              "            '<a target=\"_blank\" href=https://colab.research.google.com/notebooks/data_table.ipynb>data table notebook</a>'\n",
              "            + ' to learn more about interactive tables.';\n",
              "          element.innerHTML = '';\n",
              "          dataTable['output_type'] = 'display_data';\n",
              "          await google.colab.output.renderOutput(dataTable, element);\n",
              "          const docLink = document.createElement('div');\n",
              "          docLink.innerHTML = docLinkHtml;\n",
              "          element.appendChild(docLink);\n",
              "        }\n",
              "      </script>\n",
              "    </div>\n",
              "  </div>\n",
              "  "
            ]
          },
          "metadata": {},
          "execution_count": 5
        }
      ],
      "source": [
        "df.head(10)"
      ]
    },
    {
      "cell_type": "markdown",
      "source": [
        "Perform Exploratory Data Analysis using line, histogram and kernel density estimation (KDE) of the closing price of the stocks. EDA is the process of using a graphical representation to discover and investigate patterns within data.\n"
      ],
      "metadata": {
        "id": "N9O0LaRA1wQO"
      }
    },
    {
      "cell_type": "code",
      "execution_count": null,
      "metadata": {
        "ExecuteTime": {
          "end_time": "2020-01-19T06:49:43.780428Z",
          "start_time": "2020-01-19T06:49:43.560045Z"
        },
        "colab": {
          "base_uri": "https://localhost:8080/",
          "height": 404
        },
        "id": "S_7j21TFzYx1",
        "outputId": "26815af2-2c0b-4108-f55b-bce792987dd6"
      },
      "outputs": [
        {
          "output_type": "display_data",
          "data": {
            "text/plain": [
              "<Figure size 1080x432 with 1 Axes>"
            ],
            "image/png": "[encoded data removed]"
          },
          "metadata": {
            "needs_background": "light"
          }
        }
      ],
      "source": [
        "df[\"Close\"].plot(figsize=(15, 6))\n",
        "plt.xlabel(\"Date\")\n",
        "plt.ylabel(\"Close\")\n",
        "plt.title(\"Closing price of Facebook stocks\")\n",
        "plt.show()"
      ]
    },
    {
      "cell_type": "markdown",
      "source": [
        "KDE is a nonparametric way to estimate the probability density function (PDF) of a random variable."
      ],
      "metadata": {
        "id": "VdZ6RXcB7G53"
      }
    },
    {
      "cell_type": "code",
      "execution_count": null,
      "metadata": {
        "ExecuteTime": {
          "end_time": "2020-01-19T06:49:47.200266Z",
          "start_time": "2020-01-19T06:49:46.817255Z"
        },
        "colab": {
          "base_uri": "https://localhost:8080/",
          "height": 374
        },
        "id": "J-TCOKLEzYx1",
        "outputId": "7c294723-0632-4ac4-82e8-602503d00ba3"
      },
      "outputs": [
        {
          "output_type": "display_data",
          "data": {
            "text/plain": [
              "<Figure size 1080x432 with 2 Axes>"
            ],
            "image/png": "[encoded data removed]"
          },
          "metadata": {
            "needs_background": "light"
          }
        }
      ],
      "source": [
        "plt.figure(1, figsize=(15,6))\n",
        "plt.subplot(211)\n",
        "df[\"Close\"].hist()\n",
        "plt.subplot(212)\n",
        "df[\"Close\"].plot(kind='kde')\n",
        "plt.show()"
      ]
    },
    {
      "cell_type": "markdown",
      "source": [
        "Define the TS evaluation function."
      ],
      "metadata": {
        "id": "L97Ig2We2Oyn"
      }
    },
    {
      "cell_type": "code",
      "execution_count": null,
      "metadata": {
        "ExecuteTime": {
          "end_time": "2020-01-19T06:49:49.918782Z",
          "start_time": "2020-01-19T06:49:49.912799Z"
        },
        "id": "OmXpyUpyzYx1"
      },
      "outputs": [],
      "source": [
        "def timeseries_evaluation_metrics_func(y_true, y_pred):\n",
        "    \n",
        "    def mean_absolute_percentage_error(y_true, y_pred): \n",
        "        y_true, y_pred = np.array(y_true), np.array(y_pred)\n",
        "        return np.mean(np.abs((y_true - y_pred) / y_true)) * 100\n",
        "    print('Evaluation metric results:-')\n",
        "    print(f'MSE is : {metrics.mean_squared_error(y_true, y_pred)}')\n",
        "    print(f'MSE is : {metrics.mean_absolute_error(y_true, y_pred)}')\n",
        "    print(f'RMSE is : {np.sqrt(metrics.mean_squared_error(y_true, y_pred))}')\n",
        "    print(f'MAPE is : {mean_absolute_percentage_error(y_true, y_pred)}')\n",
        "    print(f'R2 is : {metrics.r2_score(y_true, y_pred)}',end='\\n\\n')"
      ]
    },
    {
      "cell_type": "markdown",
      "source": [
        "ADF test function to check for stationary data."
      ],
      "metadata": {
        "id": "lJHW17ph2TDW"
      }
    },
    {
      "cell_type": "code",
      "execution_count": null,
      "metadata": {
        "ExecuteTime": {
          "end_time": "2020-01-19T06:49:52.258902Z",
          "start_time": "2020-01-19T06:49:52.251955Z"
        },
        "id": "pe9DuifdzYx2"
      },
      "outputs": [],
      "source": [
        "def Augmented_Dickey_Fuller_Test_func(series , column_name):\n",
        "    print (f'Results of Dickey-Fuller Test for column: {column_name}')\n",
        "    dftest = adfuller(series, autolag='AIC')\n",
        "    dfoutput = pd.Series(dftest[0:4], index=['Test Statistic','p-value','No Lags Used','Number of Observations Used'])\n",
        "    for key,value in dftest[4].items():\n",
        "       dfoutput['Critical Value (%s)'%key] = value\n",
        "    print (dfoutput)\n",
        "    if dftest[1] <= 0.05:\n",
        "        print(\"Conclusion:====>\")\n",
        "        print(\"Reject the null hypothesis\")\n",
        "        print(\"Data is stationary\")\n",
        "    else:\n",
        "        print(\"Conclusion:====>\")\n",
        "        print(\"Fail to reject the null hypothesis\")\n",
        "        print(\"Data is non-stationary\")"
      ]
    },
    {
      "cell_type": "code",
      "execution_count": null,
      "metadata": {
        "ExecuteTime": {
          "end_time": "2020-01-19T06:49:53.835083Z",
          "start_time": "2020-01-19T06:49:53.791203Z"
        },
        "colab": {
          "base_uri": "https://localhost:8080/"
        },
        "id": "nWmr8Wz8zYx2",
        "outputId": "d529e4db-c454-4ea5-c4a3-f54310e4a77f"
      },
      "outputs": [
        {
          "output_type": "stream",
          "name": "stdout",
          "text": [
            "Results of Dickey-Fuller Test for column: Close\n",
            "Test Statistic                   -1.338096\n",
            "p-value                           0.611568\n",
            "No Lags Used                      0.000000\n",
            "Number of Observations Used    1258.000000\n",
            "Critical Value (1%)              -3.435559\n",
            "Critical Value (5%)              -2.863840\n",
            "Critical Value (10%)             -2.567995\n",
            "dtype: float64\n",
            "Conclusion:====>\n",
            "Fail to reject the null hypothesis\n",
            "Data is non-stationary\n"
          ]
        }
      ],
      "source": [
        "Augmented_Dickey_Fuller_Test_func(df['Close' ],'Close')"
      ]
    },
    {
      "cell_type": "markdown",
      "source": [
        "Close is non-stationary and auto-arima handles this internally."
      ],
      "metadata": {
        "id": "kHThL1nx2d7g"
      }
    },
    {
      "cell_type": "markdown",
      "source": [
        "Model training will be done only for the Close column from the dataset. Make a copy of the data and perform the test/train split.\n",
        "\n",
        "The train will have all the data except the last 30 days and test will contain only the last 30 days to evaluate against predictions."
      ],
      "metadata": {
        "id": "qh53m-NO2lqx"
      }
    },
    {
      "cell_type": "code",
      "execution_count": null,
      "metadata": {
        "ExecuteTime": {
          "end_time": "2020-01-19T06:49:54.746018Z",
          "start_time": "2020-01-19T06:49:54.739034Z"
        },
        "id": "xe2_ln2izYx2"
      },
      "outputs": [],
      "source": [
        "X = df[['Close' ]]\n",
        "train, test = X[0:-30], X[-30:]"
      ]
    },
    {
      "cell_type": "markdown",
      "source": [
        "The pmdarima modeule will help us to identify p, d, q without the hassle of looking at the plot."
      ],
      "metadata": {
        "id": "20CMO9Yd3DNp"
      }
    },
    {
      "cell_type": "code",
      "execution_count": null,
      "metadata": {
        "ExecuteTime": {
          "end_time": "2020-01-19T06:49:58.152265Z",
          "start_time": "2020-01-19T06:49:57.394292Z"
        },
        "colab": {
          "base_uri": "https://localhost:8080/"
        },
        "id": "AUnVp1U1zYx3",
        "outputId": "b5ac1417-6ca2-4f50-db4d-b3080e31c078"
      },
      "outputs": [
        {
          "output_type": "stream",
          "name": "stdout",
          "text": [
            "Performing stepwise search to minimize aic\n",
            " ARIMA(1,1,1)(0,0,0)[0] intercept   : AIC=5926.792, Time=1.02 sec\n",
            " ARIMA(0,1,0)(0,0,0)[0] intercept   : AIC=5929.302, Time=0.06 sec\n",
            " ARIMA(1,1,0)(0,0,0)[0] intercept   : AIC=5930.825, Time=0.11 sec\n",
            " ARIMA(0,1,1)(0,0,0)[0] intercept   : AIC=5930.810, Time=0.22 sec\n",
            " ARIMA(0,1,0)(0,0,0)[0]             : AIC=5928.648, Time=0.05 sec\n",
            " ARIMA(2,1,1)(0,0,0)[0] intercept   : AIC=5928.521, Time=1.12 sec\n",
            " ARIMA(1,1,2)(0,0,0)[0] intercept   : AIC=5930.139, Time=0.94 sec\n",
            " ARIMA(0,1,2)(0,0,0)[0] intercept   : AIC=5932.491, Time=0.38 sec\n",
            " ARIMA(2,1,0)(0,0,0)[0] intercept   : AIC=5932.541, Time=0.24 sec\n",
            " ARIMA(2,1,2)(0,0,0)[0] intercept   : AIC=5928.972, Time=2.58 sec\n",
            " ARIMA(1,1,1)(0,0,0)[0]             : AIC=5927.184, Time=0.36 sec\n",
            "\n",
            "Best model:  ARIMA(1,1,1)(0,0,0)[0] intercept\n",
            "Total fit time: 7.104 seconds\n"
          ]
        }
      ],
      "source": [
        "\n",
        "stepwise_model = auto_arima(train,start_p=1, start_q=1,\n",
        "    max_p=7, max_q=7, seasonal=False,\n",
        "    d=None, trace=True,error_action='ignore',suppress_warnings=True, stepwise=True)\n"
      ]
    },
    {
      "cell_type": "code",
      "execution_count": null,
      "metadata": {
        "ExecuteTime": {
          "end_time": "2020-01-19T06:50:00.086274Z",
          "start_time": "2020-01-19T06:50:00.024405Z"
        },
        "scrolled": true,
        "colab": {
          "base_uri": "https://localhost:8080/",
          "height": 452
        },
        "id": "uqmS9nKIzYx3",
        "outputId": "ec0476cf-3b8b-46e0-f009-32ba85a31602"
      },
      "outputs": [
        {
          "output_type": "execute_result",
          "data": {
            "text/plain": [
              "<class 'statsmodels.iolib.summary.Summary'>\n",
              "\"\"\"\n",
              "                               SARIMAX Results                                \n",
              "==============================================================================\n",
              "Dep. Variable:                      y   No. Observations:                 1229\n",
              "Model:               SARIMAX(1, 1, 1)   Log Likelihood               -2959.396\n",
              "Date:                Tue, 15 Nov 2022   AIC                           5926.792\n",
              "Time:                        05:48:26   BIC                           5947.245\n",
              "Sample:                             0   HQIC                          5934.488\n",
              "                               - 1229                                         \n",
              "Covariance Type:                  opg                                         \n",
              "==============================================================================\n",
              "                 coef    std err          z      P>|z|      [0.025      0.975]\n",
              "------------------------------------------------------------------------------\n",
              "intercept      0.0122      0.012      1.046      0.296      -0.011       0.035\n",
              "ar.L1          0.8631      0.087      9.910      0.000       0.692       1.034\n",
              "ma.L1         -0.8999      0.076    -11.855      0.000      -1.049      -0.751\n",
              "sigma2         7.2569      0.083     87.805      0.000       7.095       7.419\n",
              "===================================================================================\n",
              "Ljung-Box (L1) (Q):                   0.17   Jarque-Bera (JB):            112080.53\n",
              "Prob(Q):                              0.68   Prob(JB):                         0.00\n",
              "Heteroskedasticity (H):               4.99   Skew:                            -2.83\n",
              "Prob(H) (two-sided):                  0.00   Kurtosis:                        49.46\n",
              "===================================================================================\n",
              "\n",
              "Warnings:\n",
              "[1] Covariance matrix calculated using the outer product of gradients (complex-step).\n",
              "\"\"\""
            ],
            "text/html": [
              "<table class=\"simpletable\">\n",
              "<caption>SARIMAX Results</caption>\n",
              "<tr>\n",
              "  <th>Dep. Variable:</th>           <td>y</td>        <th>  No. Observations:  </th>   <td>1229</td>   \n",
              "</tr>\n",
              "<tr>\n",
              "  <th>Model:</th>           <td>SARIMAX(1, 1, 1)</td> <th>  Log Likelihood     </th> <td>-2959.396</td>\n",
              "</tr>\n",
              "<tr>\n",
              "  <th>Date:</th>            <td>Tue, 15 Nov 2022</td> <th>  AIC                </th> <td>5926.792</td> \n",
              "</tr>\n",
              "<tr>\n",
              "  <th>Time:</th>                <td>05:48:26</td>     <th>  BIC                </th> <td>5947.245</td> \n",
              "</tr>\n",
              "<tr>\n",
              "  <th>Sample:</th>                  <td>0</td>        <th>  HQIC               </th> <td>5934.488</td> \n",
              "</tr>\n",
              "<tr>\n",
              "  <th></th>                      <td> - 1229</td>     <th>                     </th>     <td> </td>    \n",
              "</tr>\n",
              "<tr>\n",
              "  <th>Covariance Type:</th>        <td>opg</td>       <th>                     </th>     <td> </td>    \n",
              "</tr>\n",
              "</table>\n",
              "<table class=\"simpletable\">\n",
              "<tr>\n",
              "      <td></td>         <th>coef</th>     <th>std err</th>      <th>z</th>      <th>P>|z|</th>  <th>[0.025</th>    <th>0.975]</th>  \n",
              "</tr>\n",
              "<tr>\n",
              "  <th>intercept</th> <td>    0.0122</td> <td>    0.012</td> <td>    1.046</td> <td> 0.296</td> <td>   -0.011</td> <td>    0.035</td>\n",
              "</tr>\n",
              "<tr>\n",
              "  <th>ar.L1</th>     <td>    0.8631</td> <td>    0.087</td> <td>    9.910</td> <td> 0.000</td> <td>    0.692</td> <td>    1.034</td>\n",
              "</tr>\n",
              "<tr>\n",
              "  <th>ma.L1</th>     <td>   -0.8999</td> <td>    0.076</td> <td>  -11.855</td> <td> 0.000</td> <td>   -1.049</td> <td>   -0.751</td>\n",
              "</tr>\n",
              "<tr>\n",
              "  <th>sigma2</th>    <td>    7.2569</td> <td>    0.083</td> <td>   87.805</td> <td> 0.000</td> <td>    7.095</td> <td>    7.419</td>\n",
              "</tr>\n",
              "</table>\n",
              "<table class=\"simpletable\">\n",
              "<tr>\n",
              "  <th>Ljung-Box (L1) (Q):</th>     <td>0.17</td> <th>  Jarque-Bera (JB):  </th> <td>112080.53</td>\n",
              "</tr>\n",
              "<tr>\n",
              "  <th>Prob(Q):</th>                <td>0.68</td> <th>  Prob(JB):          </th>   <td>0.00</td>   \n",
              "</tr>\n",
              "<tr>\n",
              "  <th>Heteroskedasticity (H):</th> <td>4.99</td> <th>  Skew:              </th>   <td>-2.83</td>  \n",
              "</tr>\n",
              "<tr>\n",
              "  <th>Prob(H) (two-sided):</th>    <td>0.00</td> <th>  Kurtosis:          </th>   <td>49.46</td>  \n",
              "</tr>\n",
              "</table><br/><br/>Warnings:<br/>[1] Covariance matrix calculated using the outer product of gradients (complex-step)."
            ]
          },
          "metadata": {},
          "execution_count": 13
        }
      ],
      "source": [
        "stepwise_model.summary()"
      ]
    },
    {
      "cell_type": "markdown",
      "source": [
        "Auto-ARIMA says **ARIMA(1,1,1)** is the optimal selection for the dataset. \n",
        "\n",
        "Forecast both results and the confidence for the next 30 days and store it in a DataFrame.\n",
        "\n",
        "**Confidence** is the range of values you expect your estimate to fall between if you redo your test, within a certain level of confidence.\n",
        "\n",
        "**return_conf_int=True:** Whether to get the confidence intervals of the forecasts."
      ],
      "metadata": {
        "id": "smhubKVt50nd"
      }
    },
    {
      "cell_type": "code",
      "execution_count": null,
      "metadata": {
        "ExecuteTime": {
          "end_time": "2020-01-19T06:59:35.686064Z",
          "start_time": "2020-01-19T06:59:35.679076Z"
        },
        "id": "PuMX6OlDzYx3"
      },
      "outputs": [],
      "source": [
        "forecast,conf_int = stepwise_model.predict(n_periods=30,return_conf_int=True)\n",
        "forecast = pd.DataFrame(forecast,columns=['close_pred'])"
      ]
    },
    {
      "cell_type": "code",
      "execution_count": null,
      "metadata": {
        "ExecuteTime": {
          "end_time": "2020-01-19T06:59:36.853621Z",
          "start_time": "2020-01-19T06:59:36.847633Z"
        },
        "scrolled": true,
        "id": "JmgfV6RZzYx3"
      },
      "outputs": [],
      "source": [
        "df_conf = pd.DataFrame(conf_int,columns= ['Upper_bound','Lower_bound'])\n",
        "df_conf[\"new_index\"] = range(1229, 1259)\n",
        "df_conf = df_conf.set_index(\"new_index\")"
      ]
    },
    {
      "cell_type": "code",
      "execution_count": null,
      "metadata": {
        "ExecuteTime": {
          "end_time": "2020-01-19T06:59:40.261206Z",
          "start_time": "2020-01-19T06:59:40.251231Z"
        },
        "colab": {
          "base_uri": "https://localhost:8080/"
        },
        "id": "EUIpqp1SzYx4",
        "outputId": "a238104a-2bc6-4614-c1b1-155291388034"
      },
      "outputs": [
        {
          "output_type": "stream",
          "name": "stdout",
          "text": [
            "Evaluation metric results:-\n",
            "MSE is : 73.01967210398398\n",
            "MSE is : 7.728337069007178\n",
            "RMSE is : 8.54515489057887\n",
            "MAPE is : 3.918455774397025\n",
            "R2 is : -2.9895373916905834\n",
            "\n"
          ]
        }
      ],
      "source": [
        "timeseries_evaluation_metrics_func(test, forecast)"
      ]
    },
    {
      "cell_type": "markdown",
      "source": [
        "Rearrange the indexes for the plots to align."
      ],
      "metadata": {
        "id": "Mti3w9jv6i6f"
      }
    },
    {
      "cell_type": "code",
      "execution_count": null,
      "metadata": {
        "ExecuteTime": {
          "end_time": "2020-01-19T06:59:41.296825Z",
          "start_time": "2020-01-19T06:59:41.291876Z"
        },
        "id": "qkk4rQ34zYx4"
      },
      "outputs": [],
      "source": [
        "forecast[\"new_index\"] = range(1229, 1259)\n",
        "forecast = forecast.set_index(\"new_index\")"
      ]
    },
    {
      "cell_type": "markdown",
      "source": [
        "Plot the results with confidence bounds."
      ],
      "metadata": {
        "id": "WZqLjJ2f6kZH"
      }
    },
    {
      "cell_type": "code",
      "execution_count": null,
      "metadata": {
        "ExecuteTime": {
          "end_time": "2020-01-19T07:01:13.474361Z",
          "start_time": "2020-01-19T07:01:13.216053Z"
        },
        "colab": {
          "base_uri": "https://localhost:8080/",
          "height": 428
        },
        "id": "6UBBrZ7qzYx4",
        "outputId": "391ea0f4-a18b-4fc6-c588-7b34a03c7bc4"
      },
      "outputs": [
        {
          "output_type": "display_data",
          "data": {
            "text/plain": [
              "<Figure size 1080x504 with 1 Axes>"
            ],
            "image/png": "[encoded data removed]"
          },
          "metadata": {
            "needs_background": "light"
          }
        }
      ],
      "source": [
        "import matplotlib.pyplot as plt\n",
        "%matplotlib inline\n",
        "plt.rcParams[\"figure.figsize\"] = [15,7]\n",
        "plt.plot( train, label='Train ')\n",
        "plt.plot(test, label='Test ')\n",
        "plt.plot(forecast, label='Predicted ')\n",
        "plt.plot(df_conf['Upper_bound'], label='Confidence Interval Upper bound ')\n",
        "plt.plot(df_conf['Lower_bound'], label='Confidence Interval Lower bound ')\n",
        "plt.legend(loc='best')\n",
        "plt.show()"
      ]
    },
    {
      "cell_type": "markdown",
      "source": [
        "Plot the diagnostic Plot.\n",
        "\n",
        "**Standardized Residual:** It's a measure of the strength of the difference between observed and expected values.\n",
        "\n",
        "**Histogram plus estimated density:** KDE is a nonparametric way to estimate the probability density function (PDF) of a random variable.\n",
        "\n",
        "**Normal Q-Q:** Q-Q plots let you check that the data meet the assumption of normality. They compare the distribution of your data to a normal distribution by plotting the quartiles of your data against the quartiles of a normal distribution. If your data are normally distributed then they should form an approximately straight line."
      ],
      "metadata": {
        "id": "KwdMzNa86peA"
      }
    },
    {
      "cell_type": "code",
      "execution_count": null,
      "metadata": {
        "ExecuteTime": {
          "end_time": "2020-01-19T07:09:18.083014Z",
          "start_time": "2020-01-19T07:09:17.337005Z"
        },
        "colab": {
          "base_uri": "https://localhost:8080/",
          "height": 458
        },
        "id": "JPWUKOAAzYx4",
        "outputId": "24e05e60-abc9-48dc-ad73-1ea850ed2c56"
      },
      "outputs": [
        {
          "output_type": "display_data",
          "data": {
            "text/plain": [
              "<Figure size 1080x504 with 4 Axes>"
            ],
            "image/png": "[encoded data removed]"
          },
          "metadata": {
            "needs_background": "light"
          }
        }
      ],
      "source": [
        "stepwise_model.plot_diagnostics();"
      ]
    },
    {
      "cell_type": "code",
      "source": [
        "forecast"
      ],
      "metadata": {
        "id": "Oac-65pC96cf",
        "outputId": "1a3dedf4-d002-42db-abc3-56d704468b5b",
        "colab": {
          "base_uri": "https://localhost:8080/",
          "height": 1000
        }
      },
      "execution_count": null,
      "outputs": [
        {
          "output_type": "execute_result",
          "data": {
            "text/plain": [
              "           close_pred\n",
              "new_index            \n",
              "1229       186.433500\n",
              "1230       186.491875\n",
              "1231       186.554462\n",
              "1232       186.620683\n",
              "1233       186.690041\n",
              "1234       186.762108\n",
              "1235       186.836511\n",
              "1236       186.912931\n",
              "1237       186.991092\n",
              "1238       187.070756\n",
              "1239       187.151716\n",
              "1240       187.233796\n",
              "1241       187.316841\n",
              "1242       187.400721\n",
              "1243       187.485319\n",
              "1244       187.570539\n",
              "1245       187.656295\n",
              "1246       187.742514\n",
              "1247       187.829132\n",
              "1248       187.916095\n",
              "1249       188.003355\n",
              "1250       188.090871\n",
              "1251       188.178610\n",
              "1252       188.266539\n",
              "1253       188.354634\n",
              "1254       188.442871\n",
              "1255       188.531231\n",
              "1256       188.619697\n",
              "1257       188.708255\n",
              "1258       188.796891"
            ],
            "text/html": [
              "\n",
              "  <div id=\"df-a7720c53-dfea-4548-a03d-7836898df77c\">\n",
              "    <div class=\"colab-df-container\">\n",
              "      <div>\n",
              "<style scoped>\n",
              "    .dataframe tbody tr th:only-of-type {\n",
              "        vertical-align: middle;\n",
              "    }\n",
              "\n",
              "    .dataframe tbody tr th {\n",
              "        vertical-align: top;\n",
              "    }\n",
              "\n",
              "    .dataframe thead th {\n",
              "        text-align: right;\n",
              "    }\n",
              "</style>\n",
              "<table border=\"1\" class=\"dataframe\">\n",
              "  <thead>\n",
              "    <tr style=\"text-align: right;\">\n",
              "      <th></th>\n",
              "      <th>close_pred</th>\n",
              "    </tr>\n",
              "    <tr>\n",
              "      <th>new_index</th>\n",
              "      <th></th>\n",
              "    </tr>\n",
              "  </thead>\n",
              "  <tbody>\n",
              "    <tr>\n",
              "      <th>1229</th>\n",
              "      <td>186.433500</td>\n",
              "    </tr>\n",
              "    <tr>\n",
              "      <th>1230</th>\n",
              "      <td>186.491875</td>\n",
              "    </tr>\n",
              "    <tr>\n",
              "      <th>1231</th>\n",
              "      <td>186.554462</td>\n",
              "    </tr>\n",
              "    <tr>\n",
              "      <th>1232</th>\n",
              "      <td>186.620683</td>\n",
              "    </tr>\n",
              "    <tr>\n",
              "      <th>1233</th>\n",
              "      <td>186.690041</td>\n",
              "    </tr>\n",
              "    <tr>\n",
              "      <th>1234</th>\n",
              "      <td>186.762108</td>\n",
              "    </tr>\n",
              "    <tr>\n",
              "      <th>1235</th>\n",
              "      <td>186.836511</td>\n",
              "    </tr>\n",
              "    <tr>\n",
              "      <th>1236</th>\n",
              "      <td>186.912931</td>\n",
              "    </tr>\n",
              "    <tr>\n",
              "      <th>1237</th>\n",
              "      <td>186.991092</td>\n",
              "    </tr>\n",
              "    <tr>\n",
              "      <th>1238</th>\n",
              "      <td>187.070756</td>\n",
              "    </tr>\n",
              "    <tr>\n",
              "      <th>1239</th>\n",
              "      <td>187.151716</td>\n",
              "    </tr>\n",
              "    <tr>\n",
              "      <th>1240</th>\n",
              "      <td>187.233796</td>\n",
              "    </tr>\n",
              "    <tr>\n",
              "      <th>1241</th>\n",
              "      <td>187.316841</td>\n",
              "    </tr>\n",
              "    <tr>\n",
              "      <th>1242</th>\n",
              "      <td>187.400721</td>\n",
              "    </tr>\n",
              "    <tr>\n",
              "      <th>1243</th>\n",
              "      <td>187.485319</td>\n",
              "    </tr>\n",
              "    <tr>\n",
              "      <th>1244</th>\n",
              "      <td>187.570539</td>\n",
              "    </tr>\n",
              "    <tr>\n",
              "      <th>1245</th>\n",
              "      <td>187.656295</td>\n",
              "    </tr>\n",
              "    <tr>\n",
              "      <th>1246</th>\n",
              "      <td>187.742514</td>\n",
              "    </tr>\n",
              "    <tr>\n",
              "      <th>1247</th>\n",
              "      <td>187.829132</td>\n",
              "    </tr>\n",
              "    <tr>\n",
              "      <th>1248</th>\n",
              "      <td>187.916095</td>\n",
              "    </tr>\n",
              "    <tr>\n",
              "      <th>1249</th>\n",
              "      <td>188.003355</td>\n",
              "    </tr>\n",
              "    <tr>\n",
              "      <th>1250</th>\n",
              "      <td>188.090871</td>\n",
              "    </tr>\n",
              "    <tr>\n",
              "      <th>1251</th>\n",
              "      <td>188.178610</td>\n",
              "    </tr>\n",
              "    <tr>\n",
              "      <th>1252</th>\n",
              "      <td>188.266539</td>\n",
              "    </tr>\n",
              "    <tr>\n",
              "      <th>1253</th>\n",
              "      <td>188.354634</td>\n",
              "    </tr>\n",
              "    <tr>\n",
              "      <th>1254</th>\n",
              "      <td>188.442871</td>\n",
              "    </tr>\n",
              "    <tr>\n",
              "      <th>1255</th>\n",
              "      <td>188.531231</td>\n",
              "    </tr>\n",
              "    <tr>\n",
              "      <th>1256</th>\n",
              "      <td>188.619697</td>\n",
              "    </tr>\n",
              "    <tr>\n",
              "      <th>1257</th>\n",
              "      <td>188.708255</td>\n",
              "    </tr>\n",
              "    <tr>\n",
              "      <th>1258</th>\n",
              "      <td>188.796891</td>\n",
              "    </tr>\n",
              "  </tbody>\n",
              "</table>\n",
              "</div>\n",
              "      <button class=\"colab-df-convert\" onclick=\"convertToInteractive('df-a7720c53-dfea-4548-a03d-7836898df77c')\"\n",
              "              title=\"Convert this dataframe to an interactive table.\"\n",
              "              style=\"display:none;\">\n",
              "        \n",
              "  <svg xmlns=\"http://www.w3.org/2000/svg\" height=\"24px\"viewBox=\"0 0 24 24\"\n",
              "       width=\"24px\">\n",
              "    <path d=\"M0 0h24v24H0V0z\" fill=\"none\"/>\n",
              "    <path d=\"M18.56 5.44l.94 2.06.94-2.06 2.06-.94-2.06-.94-.94-2.06-.94 2.06-2.06.94zm-11 1L8.5 8.5l.94-2.06 2.06-.94-2.06-.94L8.5 2.5l-.94 2.06-2.06.94zm10 10l.94 2.06.94-2.06 2.06-.94-2.06-.94-.94-2.06-.94 2.06-2.06.94z\"/><path d=\"M17.41 7.96l-1.37-1.37c-.4-.4-.92-.59-1.43-.59-.52 0-1.04.2-1.43.59L10.3 9.45l-7.72 7.72c-.78.78-.78 2.05 0 2.83L4 21.41c.39.39.9.59 1.41.59.51 0 1.02-.2 1.41-.59l7.78-7.78 2.81-2.81c.8-.78.8-2.07 0-2.86zM5.41 20L4 18.59l7.72-7.72 1.47 1.35L5.41 20z\"/>\n",
              "  </svg>\n",
              "      </button>\n",
              "      \n",
              "  <style>\n",
              "    .colab-df-container {\n",
              "      display:flex;\n",
              "      flex-wrap:wrap;\n",
              "      gap: 12px;\n",
              "    }\n",
              "\n",
              "    .colab-df-convert {\n",
              "      background-color: #E8F0FE;\n",
              "      border: none;\n",
              "      border-radius: 50%;\n",
              "      cursor: pointer;\n",
              "      display: none;\n",
              "      fill: #1967D2;\n",
              "      height: 32px;\n",
              "      padding: 0 0 0 0;\n",
              "      width: 32px;\n",
              "    }\n",
              "\n",
              "    .colab-df-convert:hover {\n",
              "      background-color: #E2EBFA;\n",
              "      box-shadow: 0px 1px 2px rgba(60, 64, 67, 0.3), 0px 1px 3px 1px rgba(60, 64, 67, 0.15);\n",
              "      fill: #174EA6;\n",
              "    }\n",
              "\n",
              "    [theme=dark] .colab-df-convert {\n",
              "      background-color: #3B4455;\n",
              "      fill: #D2E3FC;\n",
              "    }\n",
              "\n",
              "    [theme=dark] .colab-df-convert:hover {\n",
              "      background-color: #434B5C;\n",
              "      box-shadow: 0px 1px 3px 1px rgba(0, 0, 0, 0.15);\n",
              "      filter: drop-shadow(0px 1px 2px rgba(0, 0, 0, 0.3));\n",
              "      fill: #FFFFFF;\n",
              "    }\n",
              "  </style>\n",
              "\n",
              "      <script>\n",
              "        const buttonEl =\n",
              "          document.querySelector('#df-a7720c53-dfea-4548-a03d-7836898df77c button.colab-df-convert');\n",
              "        buttonEl.style.display =\n",
              "          google.colab.kernel.accessAllowed ? 'block' : 'none';\n",
              "\n",
              "        async function convertToInteractive(key) {\n",
              "          const element = document.querySelector('#df-a7720c53-dfea-4548-a03d-7836898df77c');\n",
              "          const dataTable =\n",
              "            await google.colab.kernel.invokeFunction('convertToInteractive',\n",
              "                                                     [key], {});\n",
              "          if (!dataTable) return;\n",
              "\n",
              "          const docLinkHtml = 'Like what you see? Visit the ' +\n",
              "            '<a target=\"_blank\" href=https://colab.research.google.com/notebooks/data_table.ipynb>data table notebook</a>'\n",
              "            + ' to learn more about interactive tables.';\n",
              "          element.innerHTML = '';\n",
              "          dataTable['output_type'] = 'display_data';\n",
              "          await google.colab.output.renderOutput(dataTable, element);\n",
              "          const docLink = document.createElement('div');\n",
              "          docLink.innerHTML = docLinkHtml;\n",
              "          element.appendChild(docLink);\n",
              "        }\n",
              "      </script>\n",
              "    </div>\n",
              "  </div>\n",
              "  "
            ]
          },
          "metadata": {},
          "execution_count": 20
        }
      ]
    }
  ],
  "metadata": {
    "kernelspec": {
      "display_name": "Python 3",
      "language": "python",
      "name": "python3"
    },
    "language_info": {
      "codemirror_mode": {
        "name": "ipython",
        "version": 3
      },
      "file_extension": ".py",
      "mimetype": "text/x-python",
      "name": "python",
      "nbconvert_exporter": "python",
      "pygments_lexer": "ipython3",
      "version": "3.7.3"
    },
    "latex_envs": {
      "LaTeX_envs_menu_present": true,
      "autoclose": false,
      "autocomplete": true,
      "bibliofile": "biblio.bib",
      "cite_by": "apalike",
      "current_citInitial": 1,
      "eqLabelWithNumbers": true,
      "eqNumInitial": 1,
      "hotkeys": {
        "equation": "Ctrl-E",
        "itemize": "Ctrl-I"
      },
      "labels_anchors": false,
      "latex_user_defs": false,
      "report_style_numbering": false,
      "user_envs_cfg": false
    },
    "colab": {
      "provenance": [],
      "include_colab_link": true
    }
  },
  "nbformat": 4,
  "nbformat_minor": 0
}